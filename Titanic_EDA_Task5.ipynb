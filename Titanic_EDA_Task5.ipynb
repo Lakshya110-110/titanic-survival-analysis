{
  "cells": [
    {
      "cell_type": "code",
      "metadata": {},
      "source": [
        "# 1. Importing libraries\n",
        "import pandas as pd\n",
        "import numpy as np\n",
        "import seaborn as sns\n",
        "import matplotlib.pyplot as plt\n",
        "\n",
        "# Display settings\n",
        "sns.set(style='whitegrid')"
      ],
      "execution_count": null,
      "outputs": []
    },
    {
      "cell_type": "code",
      "metadata": {},
      "source": [
        "# 2. Loading the dataset\n",
        "df = pd.read_csv(\"train.csv\")\n",
        "print(df.head())"
      ],
      "execution_count": null,
      "outputs": []
    },
    {
      "cell_type": "code",
      "metadata": {},
      "source": [
        "# 3. Basic information\n",
        "print(\"Dataset Info:\")\n",
        "df.info()\n",
        "\n",
        "print(\"\\nSummary Statistics:\")\n",
        "print(df.describe())\n",
        "\n",
        "print(\"\\nMissing Values:\")\n",
        "print(df.isnull().sum())\n",
        "\n",
        "print(\"\\nValue Counts for Categorical Columns:\")\n",
        "print(df['Sex'].value_counts())\n",
        "print(df['Pclass'].value_counts())\n",
        "print(df['Embarked'].value_counts())"
      ],
      "execution_count": null,
      "outputs": []
    },
    {
      "cell_type": "code",
      "metadata": {},
      "source": [
        "# 4. Univariate Analysis\n",
        "sns.histplot(df['Age'].dropna(), kde=True)\n",
        "plt.title(\"Age Distribution\")\n",
        "plt.show()\n",
        "\n",
        "sns.histplot(df['Fare'], kde=True)\n",
        "plt.title(\"Fare Distribution\")\n",
        "plt.show()\n",
        "\n",
        "sns.countplot(x='Survived', data=df)\n",
        "plt.title(\"Survival Count\")\n",
        "plt.show()\n",
        "\n",
        "sns.countplot(x='Pclass', data=df)\n",
        "plt.title(\"Passenger Class Count\")\n",
        "plt.show()"
      ],
      "execution_count": null,
      "outputs": []
    },
    {
      "cell_type": "code",
      "metadata": {},
      "source": [
        "# 5. Bivariate Analysis\n",
        "sns.countplot(x='Sex', hue='Survived', data=df)\n",
        "plt.title(\"Survival by Gender\")\n",
        "plt.show()\n",
        "\n",
        "sns.countplot(x='Pclass', hue='Survived', data=df)\n",
        "plt.title(\"Survival by Passenger Class\")\n",
        "plt.show()\n",
        "\n",
        "sns.boxplot(x='Survived', y='Age', data=df)\n",
        "plt.title(\"Age vs. Survival\")\n",
        "plt.show()"
      ],
      "execution_count": null,
      "outputs": []
    },
    {
      "cell_type": "code",
      "metadata": {},
      "source": [
        "# 6. Multivariate Analysis\n",
        "plt.figure(figsize=(10, 6))\n",
        "numeric_df = df.select_dtypes(include='number')\n",
        "sns.heatmap(numeric_df.corr(), annot=True, cmap='coolwarm')\n",
        "plt.title(\"Correlation Heatmap\")\n",
        "plt.show()\n",
        "\n",
        "sns.pairplot(df[['Survived', 'Age', 'Fare', 'Pclass']], hue='Survived')\n",
        "plt.suptitle(\"Pairplot of Key Variables\", y=1.02)\n",
        "plt.show()"
      ],
      "execution_count": null,
      "outputs": []
    },
    {
      "cell_type": "code",
      "metadata": {},
      "source": [
        "# 7. Summary of Findings\n",
        "summary = \"\"\"\n",
        "\ud83d\udd0e SUMMARY OF FINDINGS:\n",
        "\n",
        "1. **Gender Impact**: Females had a much higher survival rate than males.\n",
        "2. **Passenger Class Impact**: First-class passengers (Pclass = 1) had a higher survival rate compared to those in lower classes.\n",
        "3. **Age Trends**: Younger passengers tended to survive more often, but survival was not limited to age.\n",
        "4. **Fare and Survival**: Higher fares were generally associated with higher survival, possibly reflecting better class.\n",
        "5. **Correlations**:\n",
        "   - Pclass is negatively correlated with survival (lower class, lower survival).\n",
        "   - Fare is positively correlated with survival.\n",
        "6. **Missing Data**:\n",
        "   - Columns like 'Age' and 'Cabin' have missing values. 'Cabin' especially has a lot of missing entries.\n",
        "\n",
        "\ud83d\udccc Insights like these are important for building models or making informed decisions based on historical data.\n",
        "\"\"\"\n",
        "print(summary)"
      ],
      "execution_count": null,
      "outputs": []
    }
  ],
  "metadata": {
    "kernelspec": {
      "display_name": "Python 3",
      "language": "python",
      "name": "python3"
    },
    "language_info": {
      "name": "python",
      "version": "3.11"
    }
  },
  "nbformat": 4,
  "nbformat_minor": 5
}